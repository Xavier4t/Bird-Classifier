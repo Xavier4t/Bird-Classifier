{
 "cells": [
  {
   "cell_type": "code",
   "execution_count": 1,
   "metadata": {},
   "outputs": [],
   "source": [
    "import os\n",
    "import pandas as pd\n",
    "import requests\n",
    "import json\n",
    "from pprint import pprint"
   ]
  },
  {
   "cell_type": "code",
   "execution_count": 4,
   "metadata": {},
   "outputs": [],
   "source": [
    "# root folder\n",
    "rootFolder = \"bird_data\"\n",
    "# json downlad folder\n",
    "jsonFolder = os.path.join(rootFolder,\"json\")\n",
    "# audio folder\n",
    "audioFolder = os.path.join(rootFolder,\"audio\")"
   ]
  },
  {
   "cell_type": "code",
   "execution_count": 5,
   "metadata": {},
   "outputs": [],
   "source": [
    "birds_common_name = [\"American Goldfinch\", \"American Robin\", \"Barn Swallow\", \"Blue Jay\", \"Blue-grey Gnatcatcher\", \n",
    "                     \"Broad-winged Hawk\", \"Carolina Chickadee\", \"Carolina Wren\", \"Cedar Waxwing\", \"Eastern Bluebird\", \n",
    "                     \"Northern Cardinal\", \"Rose-breasted Grosbeak\",\"Ruby-crowned Kinglet\", \"Tufted Titmouse\"]\n",
    "\n",
    "birds_sci_name = [\"Spinus tristis\", \"Turdus migratorius\", \"Hirundo rustica\",\"Cyanocitta cristata\", \"Polioptila caerulea\", \n",
    "                  \"Buteo platypterus\", \"Poecile carolinensis\", \"Thryothorus ludovicianus\", \"Bombycilla cedrorum\", \"Sialia sialis\", \n",
    "                  \"Cardinalis cardinalis\", \"Pheucticus ludovicianus\", \"Regulus calendula\",\"Baeolophus bicolor\" ]\n",
    "\n",
    "queryBirds = dict(zip(birds_common_name, birds_sci_name))"
   ]
  },
  {
   "cell_type": "code",
   "execution_count": 7,
   "metadata": {},
   "outputs": [],
   "source": [
    "bird_df = pd.DataFrame(zip(birds_common_name, birds_sci_name), columns = [\"common_name\", \"scientific_name\"])\n",
    "bird_df.to_csv(os.path.join(rootFolder,\"birdList.csv\"), index=False)"
   ]
  },
  {
   "cell_type": "code",
   "execution_count": 12,
   "metadata": {},
   "outputs": [],
   "source": [
    "# function to build the query urls\n",
    "def queryURL(queryBirds):\n",
    "    endpoint = \"https://www.xeno-canto.org/api/2/recordings?query=\"\n",
    "    birdy = []\n",
    "    for v in queryBirds.values():\n",
    "        aux=v.split()\n",
    "        birdy.append(aux)\n",
    "    queryURL = []\n",
    "    \n",
    "    for i,j in birdy:\n",
    "        url = f\"{endpoint}+{i}+{j}+type:call+q_gt:D\"\n",
    "        queryURL.append(url)\n",
    "        \n",
    "    return queryURL\n",
    "    \n",
    "    "
   ]
  },
  {
   "cell_type": "code",
   "execution_count": 13,
   "metadata": {},
   "outputs": [],
   "source": [
    "# function to request data by bird species\n",
    "def requestBird(url):\n",
    "    payload = {}\n",
    "    response = requests.request(\"GET\", url, data = payload).json()\n",
    "    return response"
   ]
  },
  {
   "cell_type": "code",
   "execution_count": 14,
   "metadata": {},
   "outputs": [],
   "source": [
    "# funcion to save json from the request\n",
    "def jsonBird(response,bird, path):\n",
    "    file_name = f'{bird}.json'\n",
    "    file_path = os.path.join(path, file_name)\n",
    "    with open(file_path,'w', encoding='utf-8') as f:\n",
    "        json.dump(response,f, ensure_ascii=False, indent=4)\n",
    "    f.close()\n",
    "    "
   ]
  },
  {
   "cell_type": "code",
   "execution_count": 15,
   "metadata": {},
   "outputs": [],
   "source": [
    "# request data\n",
    "def xenoRequest(queryBirds, folder):\n",
    "    bird_name = [k for k in queryBirds.keys()]\n",
    "    birds = []\n",
    "    for name in bird_name:\n",
    "        bird_name = name.replace(\" \",\"_\")\n",
    "        birds.append(bird_name)\n",
    "    qURL = queryURL(queryBirds)\n",
    "    for q,b in zip(qURL,birds):\n",
    "        response = requestBird(q)\n",
    "        jsonBird(response, b, folder)\n",
    "    "
   ]
  },
  {
   "cell_type": "code",
   "execution_count": 16,
   "metadata": {},
   "outputs": [],
   "source": [
    "xenoRequest(queryBirds, jsonFolder)"
   ]
  }
 ],
 "metadata": {
  "kernelspec": {
   "display_name": "Python 3",
   "language": "python",
   "name": "python3"
  },
  "language_info": {
   "codemirror_mode": {
    "name": "ipython",
    "version": 3
   },
   "file_extension": ".py",
   "mimetype": "text/x-python",
   "name": "python",
   "nbconvert_exporter": "python",
   "pygments_lexer": "ipython3",
   "version": "3.7.9"
  }
 },
 "nbformat": 4,
 "nbformat_minor": 4
}
