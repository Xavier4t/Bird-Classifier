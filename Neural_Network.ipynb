{
 "cells": [
  {
   "cell_type": "code",
   "execution_count": 53,
   "metadata": {},
   "outputs": [],
   "source": [
    "import pandas as pd\n",
    "import os\n",
    "import numpy as np\n",
    "from tqdm import tqdm\n",
    "import tensorflow as tf\n",
    "from tensorflow.keras.applications.xception import Xception, preprocess_input\n",
    "from sklearn import metrics\n",
    "from sklearn.metrics import confusion_matrix, classification_report, roc_curve\n",
    "from sklearn.preprocessing import LabelBinarizer\n",
    "from sklearn.utils import class_weight\n",
    "import keras\n",
    "from keras import backend as K\n",
    "from keras.models import Sequential, Model\n",
    "from keras.layers import Input,Dense, Dropout, Activation, Flatten, Convolution2D, Conv2D, MaxPooling2D, GlobalAveragePooling2D\n",
    "from keras.layers.core import Dropout\n",
    "from keras.layers.normalization import BatchNormalization\n",
    "from keras.preprocessing.image import ImageDataGenerator\n",
    "from keras.optimizers import Adam\n",
    "from keras.utils import np_utils\n",
    "from keras.regularizers import l2\n",
    "from keras.callbacks import EarlyStopping, ModelCheckpoint\n",
    "import matplotlib.pyplot as plt"
   ]
  },
  {
   "cell_type": "markdown",
   "metadata": {},
   "source": [
    "## Engineering Features"
   ]
  },
  {
   "cell_type": "code",
   "execution_count": 2,
   "metadata": {},
   "outputs": [
    {
     "data": {
      "text/html": [
       "<div>\n",
       "<style scoped>\n",
       "    .dataframe tbody tr th:only-of-type {\n",
       "        vertical-align: middle;\n",
       "    }\n",
       "\n",
       "    .dataframe tbody tr th {\n",
       "        vertical-align: top;\n",
       "    }\n",
       "\n",
       "    .dataframe thead th {\n",
       "        text-align: right;\n",
       "    }\n",
       "</style>\n",
       "<table border=\"1\" class=\"dataframe\">\n",
       "  <thead>\n",
       "    <tr style=\"text-align: right;\">\n",
       "      <th></th>\n",
       "      <th>fname</th>\n",
       "      <th>label</th>\n",
       "    </tr>\n",
       "  </thead>\n",
       "  <tbody>\n",
       "    <tr>\n",
       "      <th>0</th>\n",
       "      <td>American_Goldfinch_XC114342.wav</td>\n",
       "      <td>American_Goldfinch</td>\n",
       "    </tr>\n",
       "    <tr>\n",
       "      <th>1</th>\n",
       "      <td>American_Goldfinch_XC124312.wav</td>\n",
       "      <td>American_Goldfinch</td>\n",
       "    </tr>\n",
       "    <tr>\n",
       "      <th>2</th>\n",
       "      <td>American_Goldfinch_XC133564.wav</td>\n",
       "      <td>American_Goldfinch</td>\n",
       "    </tr>\n",
       "    <tr>\n",
       "      <th>3</th>\n",
       "      <td>American_Goldfinch_XC133565.wav</td>\n",
       "      <td>American_Goldfinch</td>\n",
       "    </tr>\n",
       "    <tr>\n",
       "      <th>4</th>\n",
       "      <td>American_Goldfinch_XC141469.wav</td>\n",
       "      <td>American_Goldfinch</td>\n",
       "    </tr>\n",
       "  </tbody>\n",
       "</table>\n",
       "</div>"
      ],
      "text/plain": [
       "                             fname               label\n",
       "0  American_Goldfinch_XC114342.wav  American_Goldfinch\n",
       "1  American_Goldfinch_XC124312.wav  American_Goldfinch\n",
       "2  American_Goldfinch_XC133564.wav  American_Goldfinch\n",
       "3  American_Goldfinch_XC133565.wav  American_Goldfinch\n",
       "4  American_Goldfinch_XC141469.wav  American_Goldfinch"
      ]
     },
     "execution_count": 2,
     "metadata": {},
     "output_type": "execute_result"
    }
   ],
   "source": [
    "rootFolder = \"bird_data\"\n",
    "wavFolder = os.path.join(\"bird_data\",\"wav_files\")\n",
    "wavFiles = os.listdir(wavFolder)\n",
    "bird_calls_df = pd.read_csv(os.path.join(rootFolder, \"bird_calls.csv\"))\n",
    "bird_calls_df.head()"
   ]
  },
  {
   "cell_type": "code",
   "execution_count": 3,
   "metadata": {},
   "outputs": [],
   "source": [
    "mel_features_df = pd.read_csv(os.path.join(rootFolder, \"mel_features.csv\"))\n",
    "mfcc_features_df = pd.read_csv(os.path.join(rootFolder, \"mfcc_features.csv\"))"
   ]
  },
  {
   "cell_type": "code",
   "execution_count": 4,
   "metadata": {
    "scrolled": true
   },
   "outputs": [
    {
     "data": {
      "text/html": [
       "<div>\n",
       "<style scoped>\n",
       "    .dataframe tbody tr th:only-of-type {\n",
       "        vertical-align: middle;\n",
       "    }\n",
       "\n",
       "    .dataframe tbody tr th {\n",
       "        vertical-align: top;\n",
       "    }\n",
       "\n",
       "    .dataframe thead th {\n",
       "        text-align: right;\n",
       "    }\n",
       "</style>\n",
       "<table border=\"1\" class=\"dataframe\">\n",
       "  <thead>\n",
       "    <tr style=\"text-align: right;\">\n",
       "      <th></th>\n",
       "      <th>label</th>\n",
       "      <th>feature</th>\n",
       "    </tr>\n",
       "  </thead>\n",
       "  <tbody>\n",
       "    <tr>\n",
       "      <th>0</th>\n",
       "      <td>American_Goldfinch</td>\n",
       "      <td>[[-80. -80. -80. ... -80. -80. -80.]\\n [-80. -...</td>\n",
       "    </tr>\n",
       "    <tr>\n",
       "      <th>1</th>\n",
       "      <td>American_Goldfinch</td>\n",
       "      <td>[[-80. -80. -80. ... -80. -80. -80.]\\n [-80. -...</td>\n",
       "    </tr>\n",
       "    <tr>\n",
       "      <th>2</th>\n",
       "      <td>American_Goldfinch</td>\n",
       "      <td>[[-80.         -80.         -80.         ... -...</td>\n",
       "    </tr>\n",
       "    <tr>\n",
       "      <th>3</th>\n",
       "      <td>American_Goldfinch</td>\n",
       "      <td>[[-80.         -80.         -80.         ... -...</td>\n",
       "    </tr>\n",
       "    <tr>\n",
       "      <th>4</th>\n",
       "      <td>American_Goldfinch</td>\n",
       "      <td>[[-80. -80. -80. ... -80. -80. -80.]\\n [-80. -...</td>\n",
       "    </tr>\n",
       "  </tbody>\n",
       "</table>\n",
       "</div>"
      ],
      "text/plain": [
       "                label                                            feature\n",
       "0  American_Goldfinch  [[-80. -80. -80. ... -80. -80. -80.]\\n [-80. -...\n",
       "1  American_Goldfinch  [[-80. -80. -80. ... -80. -80. -80.]\\n [-80. -...\n",
       "2  American_Goldfinch  [[-80.         -80.         -80.         ... -...\n",
       "3  American_Goldfinch  [[-80.         -80.         -80.         ... -...\n",
       "4  American_Goldfinch  [[-80. -80. -80. ... -80. -80. -80.]\\n [-80. -..."
      ]
     },
     "execution_count": 4,
     "metadata": {},
     "output_type": "execute_result"
    }
   ],
   "source": [
    "mel_features_df.head()"
   ]
  },
  {
   "cell_type": "code",
   "execution_count": 5,
   "metadata": {
    "scrolled": true
   },
   "outputs": [
    {
     "data": {
      "text/html": [
       "<div>\n",
       "<style scoped>\n",
       "    .dataframe tbody tr th:only-of-type {\n",
       "        vertical-align: middle;\n",
       "    }\n",
       "\n",
       "    .dataframe tbody tr th {\n",
       "        vertical-align: top;\n",
       "    }\n",
       "\n",
       "    .dataframe thead th {\n",
       "        text-align: right;\n",
       "    }\n",
       "</style>\n",
       "<table border=\"1\" class=\"dataframe\">\n",
       "  <thead>\n",
       "    <tr style=\"text-align: right;\">\n",
       "      <th></th>\n",
       "      <th>label</th>\n",
       "      <th>feature</th>\n",
       "    </tr>\n",
       "  </thead>\n",
       "  <tbody>\n",
       "    <tr>\n",
       "      <th>0</th>\n",
       "      <td>American_Goldfinch</td>\n",
       "      <td>[[ -2.48275794  -3.56181979  -2.70022824 ...  ...</td>\n",
       "    </tr>\n",
       "    <tr>\n",
       "      <th>1</th>\n",
       "      <td>American_Goldfinch</td>\n",
       "      <td>[[  0.          -1.13543094  -0.34263572 ...  ...</td>\n",
       "    </tr>\n",
       "    <tr>\n",
       "      <th>2</th>\n",
       "      <td>American_Goldfinch</td>\n",
       "      <td>[[ -1.06088357  -5.78667663  -4.09501159 ...  ...</td>\n",
       "    </tr>\n",
       "    <tr>\n",
       "      <th>3</th>\n",
       "      <td>American_Goldfinch</td>\n",
       "      <td>[[ -0.7841282   -8.00023103  -6.01809665 ...  ...</td>\n",
       "    </tr>\n",
       "    <tr>\n",
       "      <th>4</th>\n",
       "      <td>American_Goldfinch</td>\n",
       "      <td>[[ -1.33764821  -1.20825628  -0.57548347 ...  ...</td>\n",
       "    </tr>\n",
       "  </tbody>\n",
       "</table>\n",
       "</div>"
      ],
      "text/plain": [
       "                label                                            feature\n",
       "0  American_Goldfinch  [[ -2.48275794  -3.56181979  -2.70022824 ...  ...\n",
       "1  American_Goldfinch  [[  0.          -1.13543094  -0.34263572 ...  ...\n",
       "2  American_Goldfinch  [[ -1.06088357  -5.78667663  -4.09501159 ...  ...\n",
       "3  American_Goldfinch  [[ -0.7841282   -8.00023103  -6.01809665 ...  ...\n",
       "4  American_Goldfinch  [[ -1.33764821  -1.20825628  -0.57548347 ...  ..."
      ]
     },
     "execution_count": 5,
     "metadata": {},
     "output_type": "execute_result"
    }
   ],
   "source": [
    "mfcc_features_df.head()"
   ]
  },
  {
   "cell_type": "markdown",
   "metadata": {},
   "source": [
    "### Train and Test datasets"
   ]
  },
  {
   "cell_type": "code",
   "execution_count": 191,
   "metadata": {},
   "outputs": [],
   "source": [
    "# Function to create train and test dataframe from shuffled features\n",
    "def test_train(df, train_size=80):\n",
    "    classes = list(np.unique(df.label))\n",
    "    train = []\n",
    "    test = []\n",
    "    for c in classes:\n",
    "        temp = df[df['label']==c].sample(frac=1)\n",
    "        train.append(temp.head(train_size))\n",
    "        test.append(temp.tail(100-train_size))\n",
    "    train_df=pd.concat(train[:10]).sample(frac=1).reset_index(drop=True)\n",
    "    test_df = pd.concat(test[:10]).sample(frac=1).reset_index(drop=True)\n",
    "    return train_df, test_df\n",
    "        "
   ]
  },
  {
   "cell_type": "code",
   "execution_count": 192,
   "metadata": {},
   "outputs": [],
   "source": [
    "mfcc_train, mfcc_test = test_train(mfcc_features_df)"
   ]
  },
  {
   "cell_type": "code",
   "execution_count": 193,
   "metadata": {
    "scrolled": true
   },
   "outputs": [
    {
     "data": {
      "text/html": [
       "<div>\n",
       "<style scoped>\n",
       "    .dataframe tbody tr th:only-of-type {\n",
       "        vertical-align: middle;\n",
       "    }\n",
       "\n",
       "    .dataframe tbody tr th {\n",
       "        vertical-align: top;\n",
       "    }\n",
       "\n",
       "    .dataframe thead th {\n",
       "        text-align: right;\n",
       "    }\n",
       "</style>\n",
       "<table border=\"1\" class=\"dataframe\">\n",
       "  <thead>\n",
       "    <tr style=\"text-align: right;\">\n",
       "      <th></th>\n",
       "      <th>label</th>\n",
       "      <th>feature</th>\n",
       "    </tr>\n",
       "  </thead>\n",
       "  <tbody>\n",
       "    <tr>\n",
       "      <th>0</th>\n",
       "      <td>American_Robin</td>\n",
       "      <td>[[ -4.08599101  -3.3323396   -1.91455583 ...  ...</td>\n",
       "    </tr>\n",
       "    <tr>\n",
       "      <th>1</th>\n",
       "      <td>Blue-grey_Gnatcatcher</td>\n",
       "      <td>[[  0.          -6.58899379  -5.77285376 ...  ...</td>\n",
       "    </tr>\n",
       "    <tr>\n",
       "      <th>2</th>\n",
       "      <td>Carolina_Chickadee</td>\n",
       "      <td>[[ 0.00000000e+00 -8.41467641e-02 -5.76858570e...</td>\n",
       "    </tr>\n",
       "    <tr>\n",
       "      <th>3</th>\n",
       "      <td>Blue-grey_Gnatcatcher</td>\n",
       "      <td>[[ -9.07276724  -7.36076227  -5.05184096 ...  ...</td>\n",
       "    </tr>\n",
       "    <tr>\n",
       "      <th>4</th>\n",
       "      <td>Cedar_Waxwing</td>\n",
       "      <td>[[  0.   0.   0. ...   0.   0.   0.]\\n [-80. -...</td>\n",
       "    </tr>\n",
       "  </tbody>\n",
       "</table>\n",
       "</div>"
      ],
      "text/plain": [
       "                   label                                            feature\n",
       "0         American_Robin  [[ -4.08599101  -3.3323396   -1.91455583 ...  ...\n",
       "1  Blue-grey_Gnatcatcher  [[  0.          -6.58899379  -5.77285376 ...  ...\n",
       "2     Carolina_Chickadee  [[ 0.00000000e+00 -8.41467641e-02 -5.76858570e...\n",
       "3  Blue-grey_Gnatcatcher  [[ -9.07276724  -7.36076227  -5.05184096 ...  ...\n",
       "4          Cedar_Waxwing  [[  0.   0.   0. ...   0.   0.   0.]\\n [-80. -..."
      ]
     },
     "execution_count": 193,
     "metadata": {},
     "output_type": "execute_result"
    }
   ],
   "source": [
    "mfcc_train.head()"
   ]
  },
  {
   "cell_type": "code",
   "execution_count": 194,
   "metadata": {},
   "outputs": [
    {
     "data": {
      "text/html": [
       "<div>\n",
       "<style scoped>\n",
       "    .dataframe tbody tr th:only-of-type {\n",
       "        vertical-align: middle;\n",
       "    }\n",
       "\n",
       "    .dataframe tbody tr th {\n",
       "        vertical-align: top;\n",
       "    }\n",
       "\n",
       "    .dataframe thead th {\n",
       "        text-align: right;\n",
       "    }\n",
       "</style>\n",
       "<table border=\"1\" class=\"dataframe\">\n",
       "  <thead>\n",
       "    <tr style=\"text-align: right;\">\n",
       "      <th></th>\n",
       "      <th>label</th>\n",
       "      <th>feature</th>\n",
       "    </tr>\n",
       "  </thead>\n",
       "  <tbody>\n",
       "    <tr>\n",
       "      <th>0</th>\n",
       "      <td>Blue-grey_Gnatcatcher</td>\n",
       "      <td>[[ 0.00000000e+00 -1.09809000e+00 -2.28547934e...</td>\n",
       "    </tr>\n",
       "    <tr>\n",
       "      <th>1</th>\n",
       "      <td>Barn_Swallow</td>\n",
       "      <td>[[ -1.999076    -1.41482581  -1.02702158 ...  ...</td>\n",
       "    </tr>\n",
       "    <tr>\n",
       "      <th>2</th>\n",
       "      <td>Carolina_Chickadee</td>\n",
       "      <td>[[  0.   0.   0. ...   0.   0.   0.]\\n [-80. -...</td>\n",
       "    </tr>\n",
       "    <tr>\n",
       "      <th>3</th>\n",
       "      <td>Barn_Swallow</td>\n",
       "      <td>[[  0.          -6.41529659  -4.65937475 ...  ...</td>\n",
       "    </tr>\n",
       "    <tr>\n",
       "      <th>4</th>\n",
       "      <td>Ruby-crowned_Kinglet</td>\n",
       "      <td>[[  0.          -5.9585571   -3.52180889 ...  ...</td>\n",
       "    </tr>\n",
       "  </tbody>\n",
       "</table>\n",
       "</div>"
      ],
      "text/plain": [
       "                   label                                            feature\n",
       "0  Blue-grey_Gnatcatcher  [[ 0.00000000e+00 -1.09809000e+00 -2.28547934e...\n",
       "1           Barn_Swallow  [[ -1.999076    -1.41482581  -1.02702158 ...  ...\n",
       "2     Carolina_Chickadee  [[  0.   0.   0. ...   0.   0.   0.]\\n [-80. -...\n",
       "3           Barn_Swallow  [[  0.          -6.41529659  -4.65937475 ...  ...\n",
       "4   Ruby-crowned_Kinglet  [[  0.          -5.9585571   -3.52180889 ...  ..."
      ]
     },
     "execution_count": 194,
     "metadata": {},
     "output_type": "execute_result"
    }
   ],
   "source": [
    "mfcc_test.head()"
   ]
  },
  {
   "cell_type": "markdown",
   "metadata": {},
   "source": [
    "# Convolutional Neural Network"
   ]
  },
  {
   "cell_type": "code",
   "execution_count": 10,
   "metadata": {},
   "outputs": [],
   "source": [
    "# Batch and target size\n",
    "size_batch = 32\n",
    "size_target = (288,288)\n"
   ]
  },
  {
   "cell_type": "code",
   "execution_count": 8,
   "metadata": {},
   "outputs": [
    {
     "name": "stdout",
     "output_type": "stream",
     "text": [
      "Model: \"sequential\"\n",
      "_________________________________________________________________\n",
      "Layer (type)                 Output Shape              Param #   \n",
      "=================================================================\n",
      "conv2d (Conv2D)              (None, 286, 286, 32)      896       \n",
      "_________________________________________________________________\n",
      "conv2d_1 (Conv2D)            (None, 284, 284, 64)      18496     \n",
      "_________________________________________________________________\n",
      "max_pooling2d (MaxPooling2D) (None, 142, 142, 64)      0         \n",
      "_________________________________________________________________\n",
      "dropout (Dropout)            (None, 142, 142, 64)      0         \n",
      "_________________________________________________________________\n",
      "flatten (Flatten)            (None, 1290496)           0         \n",
      "_________________________________________________________________\n",
      "dense (Dense)                (None, 64)                82591808  \n",
      "_________________________________________________________________\n",
      "dropout_1 (Dropout)          (None, 64)                0         \n",
      "_________________________________________________________________\n",
      "dense_1 (Dense)              (None, 5)                 325       \n",
      "=================================================================\n",
      "Total params: 82,611,525\n",
      "Trainable params: 82,611,525\n",
      "Non-trainable params: 0\n",
      "_________________________________________________________________\n",
      "None\n"
     ]
    }
   ],
   "source": [
    "model = Sequential()\n",
    "model.add(Conv2D(32, kernel_size=(3, 3), activation='relu', input_shape=(288, 288, 3)))\n",
    "model.add(Conv2D(64, kernel_size=(3, 3), activation='relu'))\n",
    "model.add(MaxPooling2D(pool_size=(2, 2)))\n",
    "model.add(Dropout(0.25))\n",
    "model.add(Flatten())\n",
    "model.add(Dense(64, activation='relu'))\n",
    "model.add(Dropout(0.5))\n",
    "model.add(Dense(5, activation='softmax'))\n",
    "model.compile(loss='categorical_crossentropy', optimizer='adam', metrics=['accuracy'])\n",
    "print(model.summary())"
   ]
  },
  {
   "cell_type": "code",
   "execution_count": 9,
   "metadata": {},
   "outputs": [],
   "source": [
    "early_stopping = EarlyStopping(monitor='val_loss', patience=50, verbose=1)\n",
    "callbacks = [early_stopping]"
   ]
  },
  {
   "cell_type": "code",
   "execution_count": null,
   "metadata": {},
   "outputs": [],
   "source": []
  }
 ],
 "metadata": {
  "kernelspec": {
   "display_name": "Python 3",
   "language": "python",
   "name": "python3"
  },
  "language_info": {
   "codemirror_mode": {
    "name": "ipython",
    "version": 3
   },
   "file_extension": ".py",
   "mimetype": "text/x-python",
   "name": "python",
   "nbconvert_exporter": "python",
   "pygments_lexer": "ipython3",
   "version": "3.7.9"
  }
 },
 "nbformat": 4,
 "nbformat_minor": 4
}
