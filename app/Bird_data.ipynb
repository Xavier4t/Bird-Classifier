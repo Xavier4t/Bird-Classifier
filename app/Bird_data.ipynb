{
 "cells": [
  {
   "cell_type": "code",
   "execution_count": 46,
   "metadata": {},
   "outputs": [],
   "source": [
    "import os\n",
    "import json\n",
    "import geojson\n",
    "from geojson import FeatureCollection, Feature, Point\n",
    "import pandas as pd\n",
    "from pprint import pprint\n",
    "import numpy as np"
   ]
  },
  {
   "cell_type": "code",
   "execution_count": 2,
   "metadata": {},
   "outputs": [],
   "source": [
    "# path constructor\n",
    "def path_constructor(parent, child):\n",
    "    return os.path.join(parent, child)"
   ]
  },
  {
   "cell_type": "code",
   "execution_count": 74,
   "metadata": {},
   "outputs": [],
   "source": [
    "# data folder\n",
    "dataFolder = path_constructor(\"static\", \"data\")\n",
    "jsonFolder=path_constructor(dataFolder,\"json\")\n",
    "csvFolder=path_constructor(dataFolder,\"csv\")\n",
    "jsonFiles = os.listdir(jsonFolder)\n",
    "geojsonFolder= path_constructor(dataFolder,\"geojson\")"
   ]
  },
  {
   "cell_type": "code",
   "execution_count": 4,
   "metadata": {
    "scrolled": false
   },
   "outputs": [
    {
     "data": {
      "text/html": [
       "<div>\n",
       "<style scoped>\n",
       "    .dataframe tbody tr th:only-of-type {\n",
       "        vertical-align: middle;\n",
       "    }\n",
       "\n",
       "    .dataframe tbody tr th {\n",
       "        vertical-align: top;\n",
       "    }\n",
       "\n",
       "    .dataframe thead th {\n",
       "        text-align: right;\n",
       "    }\n",
       "</style>\n",
       "<table border=\"1\" class=\"dataframe\">\n",
       "  <thead>\n",
       "    <tr style=\"text-align: right;\">\n",
       "      <th></th>\n",
       "      <th>fname</th>\n",
       "      <th>label</th>\n",
       "    </tr>\n",
       "  </thead>\n",
       "  <tbody>\n",
       "    <tr>\n",
       "      <th>0</th>\n",
       "      <td>American_Goldfinch_XC114342.wav</td>\n",
       "      <td>American_Goldfinch</td>\n",
       "    </tr>\n",
       "    <tr>\n",
       "      <th>1</th>\n",
       "      <td>American_Goldfinch_XC124312.wav</td>\n",
       "      <td>American_Goldfinch</td>\n",
       "    </tr>\n",
       "    <tr>\n",
       "      <th>2</th>\n",
       "      <td>American_Goldfinch_XC133564.wav</td>\n",
       "      <td>American_Goldfinch</td>\n",
       "    </tr>\n",
       "    <tr>\n",
       "      <th>3</th>\n",
       "      <td>American_Goldfinch_XC133565.wav</td>\n",
       "      <td>American_Goldfinch</td>\n",
       "    </tr>\n",
       "    <tr>\n",
       "      <th>4</th>\n",
       "      <td>American_Goldfinch_XC141469.wav</td>\n",
       "      <td>American_Goldfinch</td>\n",
       "    </tr>\n",
       "  </tbody>\n",
       "</table>\n",
       "</div>"
      ],
      "text/plain": [
       "                             fname               label\n",
       "0  American_Goldfinch_XC114342.wav  American_Goldfinch\n",
       "1  American_Goldfinch_XC124312.wav  American_Goldfinch\n",
       "2  American_Goldfinch_XC133564.wav  American_Goldfinch\n",
       "3  American_Goldfinch_XC133565.wav  American_Goldfinch\n",
       "4  American_Goldfinch_XC141469.wav  American_Goldfinch"
      ]
     },
     "execution_count": 4,
     "metadata": {},
     "output_type": "execute_result"
    }
   ],
   "source": [
    "bird_df = pd.read_csv(path_constructor(csvFolder, \"bird_calls.csv\"))\n",
    "bird_df.head()"
   ]
  },
  {
   "cell_type": "code",
   "execution_count": 5,
   "metadata": {},
   "outputs": [],
   "source": [
    "birdID = bird_df.fname.str[-10:-4]\n",
    "birdList=list(np.unique(bird_df.label))"
   ]
  },
  {
   "cell_type": "code",
   "execution_count": 6,
   "metadata": {},
   "outputs": [
    {
     "data": {
      "text/plain": [
       "['American_Goldfinch',\n",
       " 'American_Robin',\n",
       " 'Barn_Swallow',\n",
       " 'Blue-grey_Gnatcatcher',\n",
       " 'Blue_Jay',\n",
       " 'Carolina_Chickadee',\n",
       " 'Carolina_Wren',\n",
       " 'Cedar_Waxwing',\n",
       " 'Northern_Cardinal',\n",
       " 'Ruby-crowned_Kinglet']"
      ]
     },
     "execution_count": 6,
     "metadata": {},
     "output_type": "execute_result"
    }
   ],
   "source": [
    "birdList"
   ]
  },
  {
   "cell_type": "code",
   "execution_count": 7,
   "metadata": {},
   "outputs": [],
   "source": [
    "def openFile(filepath):\n",
    "    with open(filepath, 'r', encoding='utf-8') as f:\n",
    "        data=json.load(f)\n",
    "    return data"
   ]
  },
  {
   "cell_type": "code",
   "execution_count": 8,
   "metadata": {},
   "outputs": [],
   "source": [
    "def birdData(data, birdID):\n",
    "    datalist = []\n",
    "    for b in birdID:\n",
    "        for i in range(len(data['recordings'])):\n",
    "            if b == data[\"recordings\"][i][\"id\"]:\n",
    "                temp=data['recordings'][i]\n",
    "                datalist.append(temp)\n",
    "    return datalist"
   ]
  },
  {
   "cell_type": "code",
   "execution_count": 9,
   "metadata": {},
   "outputs": [],
   "source": [
    "pathlist=[]\n",
    "for file in jsonFiles:\n",
    "    path=path_constructor(jsonFolder, file)\n",
    "    pathlist.append(path)\n"
   ]
  },
  {
   "cell_type": "code",
   "execution_count": 10,
   "metadata": {},
   "outputs": [],
   "source": [
    "birdDict={}\n",
    "for path, bird in zip(pathlist,birdList):\n",
    "    data=openFile(path)\n",
    "    blist=birdData(data, birdID)\n",
    "    birdDict[bird]=blist"
   ]
  },
  {
   "cell_type": "code",
   "execution_count": 77,
   "metadata": {},
   "outputs": [],
   "source": [
    "def geoBird(chickList):\n",
    "    bird_keys = ['id', 'en', 'gen', 'sp', 'cnt','loc', 'file', 'date']\n",
    "    properties=[]\n",
    "    coordinates = []\n",
    "    geo = []\n",
    "    for i in range(len(chickList)):\n",
    "        prop={k:v for (k,v) in chickList[i].items() if k in bird_keys}\n",
    "        properties.append(prop)\n",
    "        lat = chickList[i][\"lat\"]        \n",
    "        lng = chickList[i][\"lng\"]\n",
    "        if lat != None and lng != None:\n",
    "            coordinates.append((float(lng),float(lat)))\n",
    "        \n",
    "    for pt, prop in zip(coordinates, properties):\n",
    "        mypoint=Point(pt)\n",
    "        geo.append(Feature(properties=prop, geometry=mypoint))\n",
    "    \n",
    "    feature_collection=FeatureCollection(geo)\n",
    "\n",
    "    return feature_collection"
   ]
  },
  {
   "cell_type": "code",
   "execution_count": 79,
   "metadata": {},
   "outputs": [],
   "source": [
    "for k in birdDict.keys():\n",
    "    geofile=geoBird(birdDict[k])\n",
    "    filepath=path_constructor(geojsonFolder,f'{k}.json')\n",
    "    with open(filepath, 'w', encoding='utf-8') as f:\n",
    "        json.dump(geofile,f)\n",
    "    f.close()\n",
    "    "
   ]
  },
  {
   "cell_type": "code",
   "execution_count": null,
   "metadata": {},
   "outputs": [],
   "source": []
  }
 ],
 "metadata": {
  "kernelspec": {
   "display_name": "Python 3",
   "language": "python",
   "name": "python3"
  },
  "language_info": {
   "codemirror_mode": {
    "name": "ipython",
    "version": 3
   },
   "file_extension": ".py",
   "mimetype": "text/x-python",
   "name": "python",
   "nbconvert_exporter": "python",
   "pygments_lexer": "ipython3",
   "version": "3.7.9"
  }
 },
 "nbformat": 4,
 "nbformat_minor": 4
}
