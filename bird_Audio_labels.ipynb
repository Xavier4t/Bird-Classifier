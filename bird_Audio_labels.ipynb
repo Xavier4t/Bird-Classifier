{
 "cells": [
  {
   "cell_type": "code",
   "execution_count": 64,
   "metadata": {
    "scrolled": true
   },
   "outputs": [],
   "source": [
    "import os\n",
    "import fnmatch"
   ]
  },
  {
   "cell_type": "code",
   "execution_count": 65,
   "metadata": {},
   "outputs": [],
   "source": [
    "# path constructor\n",
    "def path_constructor(parent, child):\n",
    "    return os.path.join(parent, child)"
   ]
  },
  {
   "cell_type": "code",
   "execution_count": 66,
   "metadata": {},
   "outputs": [],
   "source": [
    "rootFolder = \"bird_data\"\n",
    "jsonFolder = path_constructor(rootFolder,\"json\")\n",
    "audioFolder = path_constructor(rootFolder,\"audio\")"
   ]
  },
  {
   "cell_type": "code",
   "execution_count": 67,
   "metadata": {},
   "outputs": [],
   "source": [
    "audioFiles = os.listdir(audioFolder)"
   ]
  },
  {
   "cell_type": "code",
   "execution_count": 68,
   "metadata": {},
   "outputs": [],
   "source": [
    "birds_common_name = [\"American Goldfinch\", \"American Robin\", \"Barn Swallow\", \"Blue Jay\", \"Blue-grey Gnatcatcher\", \n",
    "                     \"Broad-winged Hawk\", \"Carolina Chickadee\", \"Carolina Wren\", \"Cedar Waxwing\", \"Eastern Bluebird\", \n",
    "                     \"Northern Cardinal\", \"Rose-breasted Grosbeak\",\"Ruby-crowned Kinglet\", \"Tufted Titmouse\"]\n",
    "\n",
    "birds_sci_name = [\"Spinus tristis\", \"Turdus migratorius\", \"Hirundo rustica\",\"Cyanocitta cristata\", \"Polioptila caerulea\", \n",
    "                  \"Buteo platypterus\", \"Poecile carolinensis\", \"Thryothorus ludovicianus\", \"Bombycilla cedrorum\", \"Sialia sialis\", \n",
    "                  \"Cardinalis cardinalis\", \"Pheucticus ludovicianus\", \"Regulus calendula\",\"Baeolophus bicolor\" ]\n",
    "\n",
    "queryBirds = dict(zip(birds_common_name, birds_sci_name))"
   ]
  },
  {
   "cell_type": "code",
   "execution_count": 69,
   "metadata": {},
   "outputs": [],
   "source": [
    "birds=[]\n",
    "for name in birds_common_name:\n",
    "    birds_common_name = name.replace(\" \",\"_\")\n",
    "    birds.append(birds_common_name)\n",
    "    "
   ]
  },
  {
   "cell_type": "code",
   "execution_count": 70,
   "metadata": {},
   "outputs": [
    {
     "data": {
      "text/plain": [
       "['American_Goldfinch',\n",
       " 'American_Robin',\n",
       " 'Barn_Swallow',\n",
       " 'Blue_Jay',\n",
       " 'Blue-grey_Gnatcatcher',\n",
       " 'Broad-winged_Hawk',\n",
       " 'Carolina_Chickadee',\n",
       " 'Carolina_Wren',\n",
       " 'Cedar_Waxwing',\n",
       " 'Eastern_Bluebird',\n",
       " 'Northern_Cardinal',\n",
       " 'Rose-breasted_Grosbeak',\n",
       " 'Ruby-crowned_Kinglet',\n",
       " 'Tufted_Titmouse']"
      ]
     },
     "execution_count": 70,
     "metadata": {},
     "output_type": "execute_result"
    }
   ],
   "source": [
    "birds"
   ]
  },
  {
   "cell_type": "code",
   "execution_count": 71,
   "metadata": {},
   "outputs": [],
   "source": [
    "def audioList(fileList, birdName):\n",
    "    birdList=[]\n",
    "    for file in fileList:\n",
    "        if fnmatch.fnmatch(file, f'{birdName}*XC*.mp3'):\n",
    "            birdList.append(file)\n",
    "    return birdList"
   ]
  },
  {
   "cell_type": "markdown",
   "metadata": {},
   "source": [
    "soundFiles=[]\n",
    "for b in birds:\n",
    "    vars()[b]=audioList(audioFiles, b)\n",
    "    soundFiles.append(vars()[b])\n",
    "    "
   ]
  },
  {
   "cell_type": "code",
   "execution_count": null,
   "metadata": {},
   "outputs": [],
   "source": [
    "American_Goldfinch = audioList()"
   ]
  }
 ],
 "metadata": {
  "kernelspec": {
   "display_name": "Python 3",
   "language": "python",
   "name": "python3"
  },
  "language_info": {
   "codemirror_mode": {
    "name": "ipython",
    "version": 3
   },
   "file_extension": ".py",
   "mimetype": "text/x-python",
   "name": "python",
   "nbconvert_exporter": "python",
   "pygments_lexer": "ipython3",
   "version": "3.7.9"
  }
 },
 "nbformat": 4,
 "nbformat_minor": 4
}
