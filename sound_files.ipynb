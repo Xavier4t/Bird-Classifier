{
 "cells": [
  {
   "cell_type": "code",
   "execution_count": 3,
   "metadata": {},
   "outputs": [],
   "source": [
    "import os\n",
    "import requests\n",
    "import json"
   ]
  },
  {
   "cell_type": "code",
   "execution_count": 6,
   "metadata": {},
   "outputs": [],
   "source": [
    "# path constructor\n",
    "def path_constructor(parent, child):\n",
    "    return os.path.join(parent, child)\n"
   ]
  },
  {
   "cell_type": "code",
   "execution_count": 7,
   "metadata": {},
   "outputs": [],
   "source": [
    "rootFolder = \"bird_data\"\n",
    "jsonFolder = path_constructor(rootFolder,\"json\")\n",
    "audioFolder = path_constructor(rootFolder,\"audio\")"
   ]
  },
  {
   "cell_type": "code",
   "execution_count": 8,
   "metadata": {},
   "outputs": [
    {
     "name": "stdout",
     "output_type": "stream",
     "text": [
      "'American_Goldfinch.json'\n"
     ]
    }
   ],
   "source": [
    "jsonFiles = os.listdir(jsonFolder)\n",
    "# print(jsonFiles[0])"
   ]
  },
  {
   "cell_type": "code",
   "execution_count": 22,
   "metadata": {},
   "outputs": [],
   "source": [
    "# function to download audio files\n",
    "def download_audio(url, filePath):\n",
    "    audio = requests.get(url, allow_redirects=True)\n",
    "    open(filePath,\"wb\").write(audio.content)"
   ]
  },
  {
   "cell_type": "code",
   "execution_count": 23,
   "metadata": {},
   "outputs": [],
   "source": [
    "# bird audio files\n",
    "def birdAudio(fileList):\n",
    "    bird_file = []\n",
    "    bird_file_name = []\n",
    "    for file in fileList:\n",
    "        path = path_constructor(jsonFolder, file)\n",
    "        with open(path, 'r', encoding = 'utf-8') as f:\n",
    "            content = json.loads(f.read())\n",
    "        for r in content[\"recordings\"]:\n",
    "            aux1 =  r[\"file\"]\n",
    "            aux2 = r[\"file-name\"][:8]\n",
    "            bird_file.append(f'http:{aux1}')\n",
    "            bird_file_name.append(f'{aux2}_{file[:-5]}.mp3')\n",
    "    \n",
    "    return zip(bird_file_name, bird_file)\n",
    "\n",
    "            \n",
    "        \n",
    "            \n",
    "    "
   ]
  },
  {
   "cell_type": "code",
   "execution_count": 24,
   "metadata": {},
   "outputs": [],
   "source": [
    "birdy = birdAudio(jsonFiles)"
   ]
  },
  {
   "cell_type": "code",
   "execution_count": 25,
   "metadata": {},
   "outputs": [],
   "source": [
    "for file, link in birdy:\n",
    "    filepath = path_constructor(audioFolder,file)\n",
    "    download_audio(link,filepath)\n",
    "    "
   ]
  },
  {
   "cell_type": "code",
   "execution_count": null,
   "metadata": {},
   "outputs": [],
   "source": []
  }
 ],
 "metadata": {
  "kernelspec": {
   "display_name": "Python 3",
   "language": "python",
   "name": "python3"
  },
  "language_info": {
   "codemirror_mode": {
    "name": "ipython",
    "version": 3
   },
   "file_extension": ".py",
   "mimetype": "text/x-python",
   "name": "python",
   "nbconvert_exporter": "python",
   "pygments_lexer": "ipython3",
   "version": "3.7.9"
  }
 },
 "nbformat": 4,
 "nbformat_minor": 4
}
