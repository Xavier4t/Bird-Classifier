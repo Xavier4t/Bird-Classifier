{
 "cells": [
  {
   "cell_type": "code",
   "execution_count": 3,
   "metadata": {},
   "outputs": [],
   "source": [
    "import os\n",
    "import json\n",
    "import geojson\n",
    "from geojson import FeatureCollection, Feature, Point\n",
    "import pandas as pd\n",
    "import numpy as np"
   ]
  },
  {
   "cell_type": "code",
   "execution_count": 4,
   "metadata": {},
   "outputs": [],
   "source": [
    "# path constructor\n",
    "def path_constructor(parent, child):\n",
    "    return os.path.join(parent, child)"
   ]
  },
  {
   "cell_type": "code",
   "execution_count": 5,
   "metadata": {},
   "outputs": [],
   "source": [
    "# data folder\n",
    "dataFolder = path_constructor(\"static\", \"data\")\n",
    "jsonFolder=path_constructor(dataFolder,\"json\")\n",
    "csvFolder=path_constructor(dataFolder,\"csv\")\n",
    "jsonFiles = os.listdir(jsonFolder)"
   ]
  },
  {
   "cell_type": "code",
   "execution_count": 6,
   "metadata": {
    "scrolled": false
   },
   "outputs": [],
   "source": [
    "# bird dataframe\n",
    "bird_df = pd.read_csv(path_constructor(csvFolder, \"bird_calls.csv\"))\n",
    "birdID = bird_df.fname.str[-10:-4]\n",
    "birdList=list(np.unique(bird_df.label))"
   ]
  },
  {
   "cell_type": "code",
   "execution_count": 7,
   "metadata": {},
   "outputs": [],
   "source": [
    "def openFile(filepath):\n",
    "    with open(filepath, 'r', encoding='utf-8') as f:\n",
    "        data=json.load(f)\n",
    "    return data"
   ]
  },
  {
   "cell_type": "code",
   "execution_count": 8,
   "metadata": {},
   "outputs": [],
   "source": [
    "def birdData(data, birdID):\n",
    "    datalist = []\n",
    "    for b in birdID:\n",
    "        for i in range(len(data['recordings'])):\n",
    "            if b == data[\"recordings\"][i][\"id\"]:\n",
    "                temp=data['recordings'][i]\n",
    "                datalist.append(temp)\n",
    "    return datalist"
   ]
  },
  {
   "cell_type": "code",
   "execution_count": 9,
   "metadata": {},
   "outputs": [],
   "source": [
    "pathlist=[]\n",
    "for file in jsonFiles:\n",
    "    path=path_constructor(jsonFolder, file)\n",
    "    pathlist.append(path)\n"
   ]
  },
  {
   "cell_type": "code",
   "execution_count": 10,
   "metadata": {},
   "outputs": [],
   "source": [
    "birdDict={}\n",
    "for path, bird in zip(pathlist,birdList):\n",
    "    data=openFile(path)\n",
    "    blist=birdData(data, birdID)\n",
    "    birdDict[bird]=blist"
   ]
  },
  {
   "cell_type": "code",
   "execution_count": 11,
   "metadata": {},
   "outputs": [],
   "source": [
    "def geoBird(chickList):\n",
    "    bird_keys = ['id', 'en', 'gen', 'sp', 'cnt','loc', 'file', 'date']\n",
    "    properties=[]\n",
    "    coordinates = []\n",
    "    geo = []\n",
    "    for i in range(len(chickList)):\n",
    "        prop={k:v for (k,v) in chickList[i].items() if k in bird_keys}\n",
    "        properties.append(prop)\n",
    "        lat = chickList[i][\"lat\"]        \n",
    "        lng = chickList[i][\"lng\"]\n",
    "        if lat != None and lng != None:\n",
    "            coordinates.append((float(lng),float(lat)))\n",
    "        \n",
    "    for pt, prop in zip(coordinates, properties):\n",
    "        mypoint=Point(pt)\n",
    "        geo.append(Feature(properties=prop, geometry=mypoint))\n",
    "    \n",
    "    feature_collection=FeatureCollection(geo)\n",
    "\n",
    "    return feature_collection"
   ]
  },
  {
   "cell_type": "code",
   "execution_count": 13,
   "metadata": {},
   "outputs": [],
   "source": [
    "geojsonData={}\n",
    "for k in birdDict.keys():\n",
    "    geojsonData[k]=geoBird(birdDict[k])"
   ]
  },
  {
   "cell_type": "code",
   "execution_count": null,
   "metadata": {},
   "outputs": [],
   "source": [
    "# Build flask app and routes\n",
    "\n",
    "app = Flask(__name__)\n",
    "\n",
    "@app.route(\"/\")\n",
    "@app.route(\"/index.html\")\n",
    "def index():\n",
    "    return render_template(\"/index.html\")\n",
    "\n",
    "# American_Goldfinch\n",
    "@app.route(\"/api/American_Goldfinch\")\n",
    "def mchick():\n",
    "    DataBird = jsonify(geojsonData[\"American_Goldfinch\"])\n",
    "    return DataBird\n",
    "\n",
    "# American_Robin\n",
    "@app.route(\"/api/American_Robin\")\n",
    "def woodpecker():\n",
    "    DataBird = jsonify(geojsonData[\"American_Robin\"])\n",
    "    return DataBird\n",
    "\n",
    "# Barn_Swallow\n",
    "@app.route(\"/api/Barn_Swallow\")\n",
    "def stork():\n",
    "    DataBird = jsonify(geojsonData[\"Barn_Swallow\"])\n",
    "    return DataBird\n",
    "\n",
    "# Blue_Jay\n",
    "@app.route(\"/api/Blue_Jay\")\n",
    "def anhinga():\n",
    "    DataBird = jsonify(geojsonData[\"Blue_Jay\"])\n",
    "    return DataBird\n",
    "\n",
    "# Blue-grey_Gnatcatcher\n",
    "@app.route(\"/api/Blue-grey_Gnatcatcher\")\n",
    "def bunting():\n",
    "    DataBird = jsonify(geojsonData[\"Blue-grey_Gnatcatcher\"])\n",
    "    return DataBird\n",
    "\n",
    "# Carolina_Chickadee\n",
    "@app.route(\"/api/Carolina_Chickadee\")\n",
    "def bunting():\n",
    "    DataBird = jsonify(geojsonData[\"Carolina_Chickadee\"])\n",
    "    return DataBird\n",
    "\n",
    "# Carolina_Wren\n",
    "@app.route(\"/api/Carolina_Wren\")\n",
    "def bunting():\n",
    "    DataBird = jsonify(geojsonData[\"Carolina_Wren\"])\n",
    "    return DataBird\n",
    "\n",
    "# Cedar_Waxwing\n",
    "@app.route(\"/api/Cedar_Waxwing\")\n",
    "def bunting():\n",
    "    DataBird = jsonify(geojsonData[\"Cedar_Waxwing\"])\n",
    "    return DataBird\n",
    "\n",
    "# Northern_Cardinal\n",
    "@app.route(\"/api/Northern_Cardinal\")\n",
    "def bunting():\n",
    "    DataBird = jsonify(geojsonData[\"Northern_Cardinal\"])\n",
    "    return DataBird\n",
    "\n",
    "# Ruby-crowned_Kinglet\n",
    "@app.route(\"/api/Ruby-crowned_Kinglet\")\n",
    "def bunting():\n",
    "    DataBird = jsonify(geojsonData[\"Ruby-crowned_Kinglet\"])\n",
    "    return DataBird\n",
    "    \n",
    "\n",
    "if __name__ == \"__main__\":\n",
    "    app.run(debug=True, port = 8000)"
   ]
  },
  {
   "cell_type": "code",
   "execution_count": null,
   "metadata": {},
   "outputs": [],
   "source": []
  }
 ],
 "metadata": {
  "kernelspec": {
   "display_name": "Python 3",
   "language": "python",
   "name": "python3"
  },
  "language_info": {
   "codemirror_mode": {
    "name": "ipython",
    "version": 3
   },
   "file_extension": ".py",
   "mimetype": "text/x-python",
   "name": "python",
   "nbconvert_exporter": "python",
   "pygments_lexer": "ipython3",
   "version": "3.7.9"
  }
 },
 "nbformat": 4,
 "nbformat_minor": 4
}
