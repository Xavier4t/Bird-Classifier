{
 "cells": [
  {
   "cell_type": "code",
   "execution_count": 6,
   "metadata": {},
   "outputs": [],
   "source": [
    "import pandas as pd\n",
    "import os\n",
    "import numpy as np\n",
    "from tensorflow.keras.models import Model\n",
    "from tensorflow.keras.layers import Flatten, Dense, Dropout\n",
    "from tensorflow.keras.optimizers import Adam\n",
    "from tensorflow.keras.preprocessing.image import ImageDataGenerator\n",
    "from keras.callbacks import ReduceLROnPlateau, ModelCheckpoint\n",
    "import efficientnet.tfkeras as efn #Convolutional Neural Network architecture\n",
    "from efficientnet.keras import center_crop_and_resize, preprocess_input\n",
    "from sklearn.utils import class_weight"
   ]
  },
  {
   "cell_type": "markdown",
   "metadata": {},
   "source": [
    "## Engineering Features"
   ]
  },
  {
   "cell_type": "code",
   "execution_count": 4,
   "metadata": {},
   "outputs": [
    {
     "data": {
      "text/html": [
       "<div>\n",
       "<style scoped>\n",
       "    .dataframe tbody tr th:only-of-type {\n",
       "        vertical-align: middle;\n",
       "    }\n",
       "\n",
       "    .dataframe tbody tr th {\n",
       "        vertical-align: top;\n",
       "    }\n",
       "\n",
       "    .dataframe thead th {\n",
       "        text-align: right;\n",
       "    }\n",
       "</style>\n",
       "<table border=\"1\" class=\"dataframe\">\n",
       "  <thead>\n",
       "    <tr style=\"text-align: right;\">\n",
       "      <th></th>\n",
       "      <th>fname</th>\n",
       "      <th>label</th>\n",
       "    </tr>\n",
       "  </thead>\n",
       "  <tbody>\n",
       "    <tr>\n",
       "      <th>0</th>\n",
       "      <td>American_Goldfinch_XC114342.wav</td>\n",
       "      <td>American_Goldfinch</td>\n",
       "    </tr>\n",
       "    <tr>\n",
       "      <th>1</th>\n",
       "      <td>American_Goldfinch_XC124312.wav</td>\n",
       "      <td>American_Goldfinch</td>\n",
       "    </tr>\n",
       "    <tr>\n",
       "      <th>2</th>\n",
       "      <td>American_Goldfinch_XC133564.wav</td>\n",
       "      <td>American_Goldfinch</td>\n",
       "    </tr>\n",
       "    <tr>\n",
       "      <th>3</th>\n",
       "      <td>American_Goldfinch_XC133565.wav</td>\n",
       "      <td>American_Goldfinch</td>\n",
       "    </tr>\n",
       "    <tr>\n",
       "      <th>4</th>\n",
       "      <td>American_Goldfinch_XC141469.wav</td>\n",
       "      <td>American_Goldfinch</td>\n",
       "    </tr>\n",
       "  </tbody>\n",
       "</table>\n",
       "</div>"
      ],
      "text/plain": [
       "                             fname               label\n",
       "0  American_Goldfinch_XC114342.wav  American_Goldfinch\n",
       "1  American_Goldfinch_XC124312.wav  American_Goldfinch\n",
       "2  American_Goldfinch_XC133564.wav  American_Goldfinch\n",
       "3  American_Goldfinch_XC133565.wav  American_Goldfinch\n",
       "4  American_Goldfinch_XC141469.wav  American_Goldfinch"
      ]
     },
     "execution_count": 4,
     "metadata": {},
     "output_type": "execute_result"
    }
   ],
   "source": [
    "rootFolder = \"bird_data\"\n",
    "wavFolder = os.path.join(\"bird_data\",\"wav_files\")\n",
    "wavFiles = os.listdir(wavFolder)\n",
    "bird_calls_df = pd.read_csv(os.path.join(rootFolder, \"bird_calls.csv\"))\n",
    "bird_calls_df.head()"
   ]
  },
  {
   "cell_type": "code",
   "execution_count": null,
   "metadata": {},
   "outputs": [],
   "source": [
    "mel_features_df = pd.read_csv(os.path.join(rootFolder, \"mel_features.csv\"))\n",
    "mfcc_features_df = pd.read_csv(os.path.join(rootFolder, \"mfcc_features.csv\"))"
   ]
  },
  {
   "cell_type": "markdown",
   "metadata": {},
   "source": [
    "# Convolutional Neural Network"
   ]
  },
  {
   "cell_type": "code",
   "execution_count": 9,
   "metadata": {},
   "outputs": [
    {
     "data": {
      "text/plain": [
       "['American_Goldfinch',\n",
       " 'American_Robin',\n",
       " 'Barn_Swallow',\n",
       " 'Blue-grey_Gnatcatcher',\n",
       " 'Blue_Jay',\n",
       " 'Carolina_Chickadee',\n",
       " 'Carolina_Wren',\n",
       " 'Cedar_Waxwing',\n",
       " 'Northern_Cardinal',\n",
       " 'Ruby-crowned_Kinglet']"
      ]
     },
     "execution_count": 9,
     "metadata": {},
     "output_type": "execute_result"
    }
   ],
   "source": [
    "# labels\n",
    "bird_classes = list(np.unique(bird_calls_df.label))\n",
    "bird_classes"
   ]
  },
  {
   "cell_type": "code",
   "execution_count": 10,
   "metadata": {},
   "outputs": [],
   "source": [
    "# Batch and target size\n",
    "size_batch = 32\n",
    "size_target = (288,288)\n"
   ]
  },
  {
   "cell_type": "code",
   "execution_count": 11,
   "metadata": {},
   "outputs": [
    {
     "name": "stdout",
     "output_type": "stream",
     "text": [
      "[name: \"/device:CPU:0\"\n",
      "device_type: \"CPU\"\n",
      "memory_limit: 268435456\n",
      "locality {\n",
      "}\n",
      "incarnation: 7741875433602728831\n",
      "]\n"
     ]
    }
   ],
   "source": [
    "from tensorflow.python.client import device_lib\n",
    "print(device_lib.list_local_devices())"
   ]
  },
  {
   "cell_type": "code",
   "execution_count": null,
   "metadata": {},
   "outputs": [],
   "source": []
  }
 ],
 "metadata": {
  "kernelspec": {
   "display_name": "Python 3",
   "language": "python",
   "name": "python3"
  },
  "language_info": {
   "codemirror_mode": {
    "name": "ipython",
    "version": 3
   },
   "file_extension": ".py",
   "mimetype": "text/x-python",
   "name": "python",
   "nbconvert_exporter": "python",
   "pygments_lexer": "ipython3",
   "version": "3.7.9"
  }
 },
 "nbformat": 4,
 "nbformat_minor": 4
}
