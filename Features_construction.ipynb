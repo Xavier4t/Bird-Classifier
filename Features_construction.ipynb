{
 "cells": [
  {
   "cell_type": "code",
   "execution_count": 4,
   "metadata": {},
   "outputs": [
    {
     "name": "stderr",
     "output_type": "stream",
     "text": [
      "C:\\Users\\franc\\Anaconda3\\envs\\Py379\\lib\\site-packages\\ipykernel_launcher.py:6: TqdmExperimentalWarning: Using `tqdm.autonotebook.tqdm` in notebook mode. Use `tqdm.tqdm` instead to force console mode (e.g. in jupyter console)\n",
      "  \n"
     ]
    }
   ],
   "source": [
    "import librosa  \n",
    "import librosa.display\n",
    "import numpy as np\n",
    "import matplotlib.pyplot as plt\n",
    "import os\n",
    "from tqdm.autonotebook import tqdm\n",
    "import noisereduce as nr\n",
    "from jupyterthemes import jtplot\n"
   ]
  },
  {
   "cell_type": "code",
   "execution_count": 5,
   "metadata": {},
   "outputs": [],
   "source": [
    "jtplot.style(theme='monokai', context='notebook', ticks=True, gridlines='--')"
   ]
  },
  {
   "cell_type": "code",
   "execution_count": 6,
   "metadata": {},
   "outputs": [],
   "source": [
    "wavFolder = os.path.join(\"bird_data\",\"wav_files\")\n",
    "wavFiles = os.listdir(wavFolder)\n",
    "test = os.path.join(wavFolder, wavFiles[0])"
   ]
  },
  {
   "cell_type": "markdown",
   "metadata": {},
   "source": [
    "# Feature Engineering\n",
    "Feature 1: MFCC with cepstral filtering <br>\n",
    "Feature 2: Mel-scaled spectrogram\n",
    "\n",
    "\n",
    "## Load Audio Signal Function"
   ]
  },
  {
   "cell_type": "code",
   "execution_count": 7,
   "metadata": {},
   "outputs": [],
   "source": [
    "# Load signal and apply noise reduction if required\n",
    "def loadSignal(file, downsample=True, denoise=False):\n",
    "    SR = (22050 if downsample else 44100)\n",
    "    signal, sr = librosa.load(file, sr=SR, mono=True)\n",
    "    if denoise:\n",
    "        rsignal = nr.reduce_noise(audio_clip=signal, noise_clip=signal, verbose=False)\n",
    "        return rsignal, sr\n",
    "    else:\n",
    "        return signal, sr"
   ]
  },
  {
   "cell_type": "markdown",
   "metadata": {},
   "source": [
    "## Spectrogram Functions"
   ]
  },
  {
   "cell_type": "code",
   "execution_count": 8,
   "metadata": {},
   "outputs": [],
   "source": [
    "# Plot mel-spectrogram\n",
    "def Mel_Spectrogram(FILE, N_FFT, HOP_LENGTH, WINDOW, FILTER=False):\n",
    "    FMIN = (1400 if FILTER else 0)\n",
    "    signal, sr = loadSignal(FILE, True, True)  \n",
    "    mel = librosa.feature.melspectrogram(y=signal, sr=sr, n_fft=N_FFT, hop_length=HOP_LENGTH, htk=True, window=WINDOW, fmin=FMIN, fmax=sr/2) \n",
    "    S_dB = librosa.power_to_db(mel**2,ref=np.max)\n",
    "    return S_dB"
   ]
  },
  {
   "cell_type": "code",
   "execution_count": 13,
   "metadata": {},
   "outputs": [],
   "source": [
    "# Mel-frequency cepstral coefficients (MFCCs)\n",
    "def MFCC(FILE, N_FFT, N_MFCC, HOP_LENGTH, DCT=2, FILTER=False):\n",
    "    LIFTER=(2*N_MFCC if FILTER else 0) # cesptral filtering\n",
    "    signal, sr = loadSignal(FILE, True, True)  \n",
    "    mfccs = librosa.feature.mfcc(y=signal, sr=sr, n_fft = N_FFT, n_mfcc=N_MFCC, hop_length=HOP_LENGTH, htk=True, lifter=LIFTER, dct_type=DCT)\n",
    "    S_dB = librosa.power_to_db(mfccs**2,ref=np.max)\n",
    "    return S_dB"
   ]
  },
  {
   "cell_type": "code",
   "execution_count": null,
   "metadata": {},
   "outputs": [],
   "source": []
  }
 ],
 "metadata": {
  "kernelspec": {
   "display_name": "Python 3",
   "language": "python",
   "name": "python3"
  },
  "language_info": {
   "codemirror_mode": {
    "name": "ipython",
    "version": 3
   },
   "file_extension": ".py",
   "mimetype": "text/x-python",
   "name": "python",
   "nbconvert_exporter": "python",
   "pygments_lexer": "ipython3",
   "version": "3.7.9"
  }
 },
 "nbformat": 4,
 "nbformat_minor": 4
}
