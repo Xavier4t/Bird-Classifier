{
 "cells": [
  {
   "cell_type": "code",
   "execution_count": 80,
   "metadata": {},
   "outputs": [],
   "source": [
    "import pandas as pd\n",
    "import librosa  \n",
    "import librosa.display\n",
    "import numpy as np\n",
    "import matplotlib.pyplot as plt\n",
    "import os\n",
    "from scipy.io import wavfile\n",
    "from tqdm import tqdm\n",
    "import noisereduce as nr\n",
    "from jupyterthemes import jtplot\n"
   ]
  },
  {
   "cell_type": "code",
   "execution_count": 5,
   "metadata": {},
   "outputs": [],
   "source": [
    "jtplot.style(theme='monokai', context='notebook', ticks=True, gridlines='--')"
   ]
  },
  {
   "cell_type": "markdown",
   "metadata": {},
   "source": [
    "# Bird data"
   ]
  },
  {
   "cell_type": "code",
   "execution_count": 39,
   "metadata": {},
   "outputs": [
    {
     "data": {
      "text/html": [
       "<div>\n",
       "<style scoped>\n",
       "    .dataframe tbody tr th:only-of-type {\n",
       "        vertical-align: middle;\n",
       "    }\n",
       "\n",
       "    .dataframe tbody tr th {\n",
       "        vertical-align: top;\n",
       "    }\n",
       "\n",
       "    .dataframe thead th {\n",
       "        text-align: right;\n",
       "    }\n",
       "</style>\n",
       "<table border=\"1\" class=\"dataframe\">\n",
       "  <thead>\n",
       "    <tr style=\"text-align: right;\">\n",
       "      <th></th>\n",
       "      <th>fname</th>\n",
       "      <th>label</th>\n",
       "    </tr>\n",
       "  </thead>\n",
       "  <tbody>\n",
       "    <tr>\n",
       "      <th>0</th>\n",
       "      <td>American_Goldfinch_XC114342.wav</td>\n",
       "      <td>American_Goldfinch</td>\n",
       "    </tr>\n",
       "    <tr>\n",
       "      <th>1</th>\n",
       "      <td>American_Goldfinch_XC124312.wav</td>\n",
       "      <td>American_Goldfinch</td>\n",
       "    </tr>\n",
       "    <tr>\n",
       "      <th>2</th>\n",
       "      <td>American_Goldfinch_XC133564.wav</td>\n",
       "      <td>American_Goldfinch</td>\n",
       "    </tr>\n",
       "    <tr>\n",
       "      <th>3</th>\n",
       "      <td>American_Goldfinch_XC133565.wav</td>\n",
       "      <td>American_Goldfinch</td>\n",
       "    </tr>\n",
       "    <tr>\n",
       "      <th>4</th>\n",
       "      <td>American_Goldfinch_XC141469.wav</td>\n",
       "      <td>American_Goldfinch</td>\n",
       "    </tr>\n",
       "  </tbody>\n",
       "</table>\n",
       "</div>"
      ],
      "text/plain": [
       "                             fname               label\n",
       "0  American_Goldfinch_XC114342.wav  American_Goldfinch\n",
       "1  American_Goldfinch_XC124312.wav  American_Goldfinch\n",
       "2  American_Goldfinch_XC133564.wav  American_Goldfinch\n",
       "3  American_Goldfinch_XC133565.wav  American_Goldfinch\n",
       "4  American_Goldfinch_XC141469.wav  American_Goldfinch"
      ]
     },
     "execution_count": 39,
     "metadata": {},
     "output_type": "execute_result"
    }
   ],
   "source": [
    "rootFolder = \"bird_data\"\n",
    "wavFolder = os.path.join(\"bird_data\",\"wav_files\")\n",
    "wavFiles = os.listdir(wavFolder)\n",
    "bird_calls_df = pd.read_csv(os.path.join(rootFolder, \"bird_calls.csv\"))\n",
    "bird_calls_df.head()"
   ]
  },
  {
   "cell_type": "markdown",
   "metadata": {},
   "source": [
    "# Class inbalance"
   ]
  },
  {
   "cell_type": "code",
   "execution_count": 40,
   "metadata": {},
   "outputs": [
    {
     "data": {
      "text/html": [
       "<div>\n",
       "<style scoped>\n",
       "    .dataframe tbody tr th:only-of-type {\n",
       "        vertical-align: middle;\n",
       "    }\n",
       "\n",
       "    .dataframe tbody tr th {\n",
       "        vertical-align: top;\n",
       "    }\n",
       "\n",
       "    .dataframe thead th {\n",
       "        text-align: right;\n",
       "    }\n",
       "</style>\n",
       "<table border=\"1\" class=\"dataframe\">\n",
       "  <thead>\n",
       "    <tr style=\"text-align: right;\">\n",
       "      <th></th>\n",
       "      <th>label</th>\n",
       "    </tr>\n",
       "    <tr>\n",
       "      <th>fname</th>\n",
       "      <th></th>\n",
       "    </tr>\n",
       "  </thead>\n",
       "  <tbody>\n",
       "    <tr>\n",
       "      <th>American_Goldfinch_XC114342.wav</th>\n",
       "      <td>American_Goldfinch</td>\n",
       "    </tr>\n",
       "    <tr>\n",
       "      <th>American_Goldfinch_XC124312.wav</th>\n",
       "      <td>American_Goldfinch</td>\n",
       "    </tr>\n",
       "    <tr>\n",
       "      <th>American_Goldfinch_XC133564.wav</th>\n",
       "      <td>American_Goldfinch</td>\n",
       "    </tr>\n",
       "    <tr>\n",
       "      <th>American_Goldfinch_XC133565.wav</th>\n",
       "      <td>American_Goldfinch</td>\n",
       "    </tr>\n",
       "    <tr>\n",
       "      <th>American_Goldfinch_XC141469.wav</th>\n",
       "      <td>American_Goldfinch</td>\n",
       "    </tr>\n",
       "  </tbody>\n",
       "</table>\n",
       "</div>"
      ],
      "text/plain": [
       "                                              label\n",
       "fname                                              \n",
       "American_Goldfinch_XC114342.wav  American_Goldfinch\n",
       "American_Goldfinch_XC124312.wav  American_Goldfinch\n",
       "American_Goldfinch_XC133564.wav  American_Goldfinch\n",
       "American_Goldfinch_XC133565.wav  American_Goldfinch\n",
       "American_Goldfinch_XC141469.wav  American_Goldfinch"
      ]
     },
     "execution_count": 40,
     "metadata": {},
     "output_type": "execute_result"
    }
   ],
   "source": [
    "bird_class_df = bird_calls_df.set_index('fname')\n",
    "bird_class_df.head()"
   ]
  },
  {
   "cell_type": "code",
   "execution_count": 41,
   "metadata": {},
   "outputs": [
    {
     "data": {
      "text/html": [
       "<div>\n",
       "<style scoped>\n",
       "    .dataframe tbody tr th:only-of-type {\n",
       "        vertical-align: middle;\n",
       "    }\n",
       "\n",
       "    .dataframe tbody tr th {\n",
       "        vertical-align: top;\n",
       "    }\n",
       "\n",
       "    .dataframe thead th {\n",
       "        text-align: right;\n",
       "    }\n",
       "</style>\n",
       "<table border=\"1\" class=\"dataframe\">\n",
       "  <thead>\n",
       "    <tr style=\"text-align: right;\">\n",
       "      <th></th>\n",
       "      <th>label</th>\n",
       "      <th>length</th>\n",
       "    </tr>\n",
       "    <tr>\n",
       "      <th>fname</th>\n",
       "      <th></th>\n",
       "      <th></th>\n",
       "    </tr>\n",
       "  </thead>\n",
       "  <tbody>\n",
       "    <tr>\n",
       "      <th>American_Goldfinch_XC114342.wav</th>\n",
       "      <td>American_Goldfinch</td>\n",
       "      <td>136.968375</td>\n",
       "    </tr>\n",
       "    <tr>\n",
       "      <th>American_Goldfinch_XC124312.wav</th>\n",
       "      <td>American_Goldfinch</td>\n",
       "      <td>52.920000</td>\n",
       "    </tr>\n",
       "    <tr>\n",
       "      <th>American_Goldfinch_XC133564.wav</th>\n",
       "      <td>American_Goldfinch</td>\n",
       "      <td>50.599184</td>\n",
       "    </tr>\n",
       "    <tr>\n",
       "      <th>American_Goldfinch_XC133565.wav</th>\n",
       "      <td>American_Goldfinch</td>\n",
       "      <td>55.222857</td>\n",
       "    </tr>\n",
       "    <tr>\n",
       "      <th>American_Goldfinch_XC141469.wav</th>\n",
       "      <td>American_Goldfinch</td>\n",
       "      <td>54.058934</td>\n",
       "    </tr>\n",
       "  </tbody>\n",
       "</table>\n",
       "</div>"
      ],
      "text/plain": [
       "                                              label      length\n",
       "fname                                                          \n",
       "American_Goldfinch_XC114342.wav  American_Goldfinch  136.968375\n",
       "American_Goldfinch_XC124312.wav  American_Goldfinch   52.920000\n",
       "American_Goldfinch_XC133564.wav  American_Goldfinch   50.599184\n",
       "American_Goldfinch_XC133565.wav  American_Goldfinch   55.222857\n",
       "American_Goldfinch_XC141469.wav  American_Goldfinch   54.058934"
      ]
     },
     "execution_count": 41,
     "metadata": {},
     "output_type": "execute_result"
    }
   ],
   "source": [
    "# add column with the length of the signal in seconds\n",
    "for f in bird_class_df.index:\n",
    "    rate, signal = wavfile.read(os.path.join(wavFolder,f))\n",
    "    bird_class_df.at[f, \"length\"] = signal.shape[0]/rate\n",
    "\n",
    "bird_class_df.head()"
   ]
  },
  {
   "cell_type": "code",
   "execution_count": 42,
   "metadata": {
    "scrolled": true
   },
   "outputs": [
    {
     "data": {
      "text/plain": [
       "label\n",
       "American_Goldfinch        52.322228\n",
       "American_Robin            75.790837\n",
       "Barn_Swallow             132.134248\n",
       "Blue-grey_Gnatcatcher     60.431434\n",
       "Blue_Jay                  49.986092\n",
       "Carolina_Chickadee        56.634403\n",
       "Carolina_Wren             50.195712\n",
       "Cedar_Waxwing             39.937296\n",
       "Northern_Cardinal         66.524785\n",
       "Ruby-crowned_Kinglet      52.924116\n",
       "Name: length, dtype: float64"
      ]
     },
     "execution_count": 42,
     "metadata": {},
     "output_type": "execute_result"
    }
   ],
   "source": [
    "bird_classes = list(np.unique(bird_class_df.label))\n",
    "bird_classes_distribution = bird_class_df.groupby(['label'])['length'].mean()\n",
    "bird_classes_distribution"
   ]
  },
  {
   "cell_type": "markdown",
   "metadata": {},
   "source": [
    "### Plot class distribution\n"
   ]
  },
  {
   "cell_type": "code",
   "execution_count": 43,
   "metadata": {},
   "outputs": [],
   "source": [
    "def hbarplot(data, xlabel, title):\n",
    "    fig, ax = plt.subplots()\n",
    "    ax.barh(data.index, data)\n",
    "    ax.set_xlabel(xlabel)\n",
    "    ax.set_title(title)\n",
    "    plt.show()"
   ]
  },
  {
   "cell_type": "code",
   "execution_count": 46,
   "metadata": {},
   "outputs": [
    {
     "data": {
      "image/png": "[encoded data removed]",
      "text/plain": [
       "<Figure size 576x504 with 1 Axes>"
      ]
     },
     "metadata": {},
     "output_type": "display_data"
    }
   ],
   "source": [
    "hbarplot(bird_classes_distribution, \"Mean audio length (seconds)\", \"Bird Class Distribution\")"
   ]
  },
  {
   "cell_type": "markdown",
   "metadata": {},
   "source": [
    "# Feature Engineering\n",
    "Feature 1: MFCC with cepstral filtering <br>\n",
    "Feature 2: Mel-scaled spectrogram\n",
    "\n",
    "\n",
    "## Load Audio Signal Function"
   ]
  },
  {
   "cell_type": "code",
   "execution_count": 7,
   "metadata": {},
   "outputs": [],
   "source": [
    "# Load signal and apply noise reduction if required\n",
    "def loadSignal(file, downsample=True, denoise=False):\n",
    "    SR = (22050 if downsample else 44100)\n",
    "    signal, sr = librosa.load(file, sr=SR, mono=True)\n",
    "    if denoise:\n",
    "        rsignal = nr.reduce_noise(audio_clip=signal, noise_clip=signal, verbose=False)\n",
    "        return rsignal, sr\n",
    "    else:\n",
    "        return signal, sr"
   ]
  },
  {
   "cell_type": "markdown",
   "metadata": {},
   "source": [
    "## Spectrogram Functions"
   ]
  },
  {
   "cell_type": "code",
   "execution_count": 55,
   "metadata": {},
   "outputs": [],
   "source": [
    "# Plot mel-spectrogram\n",
    "def Mel_Spectrogram(FILE, N_FFT, HOP_LENGTH, WINDOW, FILTER=False):\n",
    "    FMIN = (1400 if FILTER else 0)\n",
    "    signal, sr = loadSignal(FILE, True, True)  \n",
    "    mel = librosa.feature.melspectrogram(y=signal, sr=sr, n_fft=N_FFT, hop_length=HOP_LENGTH, htk=True, window=WINDOW, fmin=FMIN, fmax=sr/2) \n",
    "    S_dB = librosa.power_to_db(mel**2,ref=np.max)\n",
    "    return S_dB"
   ]
  },
  {
   "cell_type": "code",
   "execution_count": 56,
   "metadata": {},
   "outputs": [],
   "source": [
    "# Mel-frequency cepstral coefficients (MFCCs)\n",
    "def MFCC(FILE, N_FFT, N_MFCC, HOP_LENGTH, DCT=2, FILTER=False):\n",
    "    LIFTER=(2*N_MFCC if FILTER else 0) # cesptral filtering\n",
    "    signal, sr = loadSignal(FILE, True, True)  \n",
    "    mfccs = librosa.feature.mfcc(y=signal, sr=sr, n_fft = N_FFT, n_mfcc=N_MFCC, hop_length=HOP_LENGTH, htk=True, lifter=LIFTER, dct_type=DCT)\n",
    "    S_dB = librosa.power_to_db(mfccs**2,ref=np.max)\n",
    "    return S_dB"
   ]
  },
  {
   "cell_type": "code",
   "execution_count": 57,
   "metadata": {},
   "outputs": [],
   "source": [
    "mel_feature = {}\n",
    "mfccs_feature = {}\n",
    "for f in tqdm(wavFiles):\n",
    "    wav_path=os.path.join(wavFolder, f)\n",
    "    mel = Mel_Spectrogram(wav_path, 1024, 1024, 'hann', False)\n",
    "    mel_feature[f]=mel\n",
    "    mfccs = MFCC(wav_path, 1024, 40, 1024)\n",
    "    mfccs_feature[f]=mfccs"
   ]
  },
  {
   "cell_type": "code",
   "execution_count": 108,
   "metadata": {},
   "outputs": [],
   "source": [
    "mel_features_df = pd.DataFrame.from_dict(list(mel_feature.items()), orient='columns')\n",
    "mel_features_df.rename(columns={0: \"label\", 1:\"feature\"}, inplace=True)\n",
    "mel_df[\"label\"]=mel_df[\"label\"].str[:-13]\n",
    "mel"
   ]
  },
  {
   "cell_type": "code",
   "execution_count": 122,
   "metadata": {
    "scrolled": true
   },
   "outputs": [],
   "source": [
    "def dict_to_csv(dictio, filepath):\n",
    "    df = pd.DataFrame.from_dict(list(dictio.items()), orient='columns')\n",
    "    col = {0: 'label', 1:'feature'}\n",
    "    df.rename(columns=col, inplace=True)\n",
    "    df.label = df.label.str[:-13]\n",
    "    df.to_csv(filepath, index=False)"
   ]
  },
  {
   "cell_type": "code",
   "execution_count": 125,
   "metadata": {},
   "outputs": [],
   "source": [
    "csv_name = [\"mel_features.csv\", \"mfcc_features.csv\"]\n",
    "features = [mel_feature, mfccs_feature]\n",
    "for n, f in zip(csv_name, features):\n",
    "    path = os.path.join(rootFolder, n)\n",
    "    dict_to_csv(f,path)"
   ]
  },
  {
   "cell_type": "code",
   "execution_count": null,
   "metadata": {},
   "outputs": [],
   "source": []
  }
 ],
 "metadata": {
  "kernelspec": {
   "display_name": "Python 3",
   "language": "python",
   "name": "python3"
  },
  "language_info": {
   "codemirror_mode": {
    "name": "ipython",
    "version": 3
   },
   "file_extension": ".py",
   "mimetype": "text/x-python",
   "name": "python",
   "nbconvert_exporter": "python",
   "pygments_lexer": "ipython3",
   "version": "3.7.9"
  }
 },
 "nbformat": 4,
 "nbformat_minor": 4
}
